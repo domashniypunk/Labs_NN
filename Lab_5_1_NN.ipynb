{
  "cells": [
    {
      "cell_type": "code",
      "execution_count": null,
      "metadata": {
        "id": "XEFFIWRnimwI"
      },
      "outputs": [],
      "source": [
        "import numpy as np\n",
        "from sklearn.model_selection import train_test_split\n",
        "import matplotlib.pyplot as plt\n",
        "import matplotlib\n",
        "import random\n",
        "import random as rnd\n",
        "import math"
      ]
    },
    {
      "cell_type": "code",
      "execution_count": null,
      "metadata": {
        "id": "jeZd7TOoirnG"
      },
      "outputs": [],
      "source": [
        "FuncX = lambda x: x ** 2 * np.exp(np.sin(x))\n",
        "x = np.random.uniform(-5, 5, size=[10000, 1])\n",
        "x = x.reshape(10000)\n",
        "x.sort()\n",
        "x = x.reshape(10000, 1)\n",
        "y = FuncX(x)\n",
        "countOfHiddenNeuronsRBF = 7\n",
        "countOfHiddenNeuronsPRC = 7\n",
        "sigma=np.std(y)"
      ]
    },
    {
      "cell_type": "code",
      "execution_count": null,
      "metadata": {
        "colab": {
          "base_uri": "https://localhost:8080/"
        },
        "id": "gesa7gMBisqR",
        "outputId": "0b99ddeb-cb2f-4659-abdd-2720f02aac7f"
      },
      "outputs": [
        {
          "output_type": "stream",
          "name": "stdout",
          "text": [
            "RBF predict in 0:\n",
            "[[0.65457153]]\n",
            "FuncX in 0:\n",
            "0.0\n"
          ]
        }
      ],
      "source": [
        "interpMtx = np.zeros((len(x), countOfHiddenNeuronsRBF))\n",
        "centers = x[np.random.choice(len(x), countOfHiddenNeuronsRBF)]\n",
        "def rbf(point, center):\n",
        "    return np.exp(-np.linalg.norm((point - center) ** 2 / (2 * sigma ** 2)))\n",
        "for i in range(len(x)):\n",
        "        for j in range(len(centers)):\n",
        "            interpMtx[i, j] = rbf(x[i], centers[j])\n",
        "weightsRBF = np.linalg.pinv(interpMtx) @ y\n",
        "\n",
        "def predictRBF(x):\n",
        "    mtx = np.zeros((len(x), countOfHiddenNeuronsRBF))\n",
        "    for i in range(len(x)):\n",
        "        for j in range(len(centers)):\n",
        "            mtx[i, j] = rbf(x[i], centers[j])\n",
        "    return mtx @ weightsRBF\n",
        "    \n",
        "# RBF aproximation\n",
        "print(\"RBF predict in 0:\")\n",
        "print(predictRBF([0]))\n",
        "print(\"FuncX in 0:\")\n",
        "print(FuncX(0))"
      ]
    },
    {
      "cell_type": "code",
      "execution_count": null,
      "metadata": {
        "id": "vRv-hlHoi6Wm"
      },
      "outputs": [],
      "source": [
        "def logistic(x):\n",
        "    return 1.0/(1 + np.exp(-x))\n",
        "\n",
        "def logistic_deriv(x):\n",
        "    return logistic(x) * (1 - logistic(x))\n",
        "\n",
        "LR = 1   \n",
        "\n",
        "I_dim = 1\n",
        "H_dim = 7\n",
        "\n",
        "epoch_count = 10\n",
        "\n",
        "#np.random.seed(1)\n",
        "\n",
        "\n",
        "weights_ItoH = np.random.uniform(-1, 1, (I_dim, H_dim))\n",
        "weights_HtoO = np.random.uniform(-1, 1, H_dim)\n",
        "preActivation_H = np.zeros(H_dim)\n",
        "postActivation_H = np.zeros(H_dim)\n",
        "def train1PRC(x, y):\n",
        "    \n",
        "    for epoch in range(epoch_count):\n",
        "        print(str(epoch) + \" / \" + str(epoch_count))\n",
        "        for sample in range(len(x)):\n",
        "            for node in range(H_dim):\n",
        "                preActivation_H[node] = np.dot(x[sample,:], weights_ItoH[:, node])\n",
        "                postActivation_H[node] = (preActivation_H[node])\n",
        "                \n",
        "            preActivation_O = np.dot(postActivation_H, weights_HtoO)\n",
        "            postActivation_O = preActivation_O\n",
        "            \n",
        "            FE = postActivation_O - y[sample]\n",
        "            \n",
        "            for H_node in range(H_dim):\n",
        "                S_error = FE * logistic_deriv(preActivation_O)\n",
        "                gradient_HtoO = S_error * postActivation_H[H_node]\n",
        "                           \n",
        "                for I_node in range(I_dim):\n",
        "                    input_value = x[sample]\n",
        "                    gradient_ItoH = S_error * weights_HtoO[H_node] * logistic_deriv(preActivation_H[H_node]) * input_value\n",
        "                \n",
        "                    weights_ItoH[I_node, H_node] -= LR * gradient_ItoH\n",
        "                    \n",
        "                weights_HtoO[H_node] -= LR * gradient_HtoO\n",
        "          \n",
        "def predict1PRC(x):\n",
        "    results = []\n",
        "    for sample in range(len(x)):\n",
        "        for node in range(H_dim):\n",
        "            preActivation_H[node] = np.dot(x[sample,:], weights_ItoH[:, node])\n",
        "            postActivation_H[node] = preActivation_H[node]\n",
        "                \n",
        "        preActivation_O = np.dot(postActivation_H, weights_HtoO)\n",
        "        results.append(preActivation_O)           \n",
        "    return results"
      ]
    },
    {
      "cell_type": "code",
      "execution_count": null,
      "metadata": {
        "colab": {
          "base_uri": "https://localhost:8080/"
        },
        "id": "TQE2z_3gi-Mb",
        "outputId": "3c9cb5c7-54cc-4e6b-9aea-3a5888a1b018"
      },
      "outputs": [
        {
          "output_type": "stream",
          "name": "stdout",
          "text": [
            "0 / 10\n",
            "1 / 10\n",
            "2 / 10\n",
            "3 / 10\n",
            "4 / 10\n",
            "5 / 10\n",
            "6 / 10\n",
            "7 / 10\n",
            "8 / 10\n",
            "9 / 10\n"
          ]
        }
      ],
      "source": [
        "train1PRC(x,y)  "
      ]
    },
    {
      "cell_type": "code",
      "execution_count": null,
      "metadata": {
        "id": "Ysv7VW6HjC84"
      },
      "outputs": [],
      "source": [
        "def init_parameters(n_features, n_neurons, n_output):   \n",
        "    np.random.seed(100)\n",
        "    W1 = np.random.uniform(size=(n_features,n_neurons), low=-1.0, high=1.0)\n",
        "    b1 = np.zeros(shape=(1,n_neurons))\n",
        "    b1 += 1\n",
        "    W2 = np.random.uniform(size=(n_neurons,n_output), low=-1.0, high=1.0)\n",
        "    b2 = np.zeros(shape=(1,n_output))\n",
        "    b2 += 1\n",
        "    parameters = {\"W1\": W1,\n",
        "                  \"b1\": b1,\n",
        "                  \"W2\": W2,\n",
        "                  \"b2\": b2}\n",
        "    \n",
        "    return parameters\n",
        "def linear_function(W, X, b):\n",
        "    \n",
        "    return (X @ W)+b\n",
        "def sigmoid_function(Z):\n",
        "    \n",
        "    return 1/(1+np.exp(-Z))\n",
        "def cost_function(A, y):\n",
        "    \n",
        "    return (np.mean(np.power(A - y,2)))/2\n",
        "def predict2PRC(X, W1, W2, b1, b2):\n",
        "    \n",
        "    Z1 = linear_function(W1, X, b1)\n",
        "    S1 = Z1\n",
        "    Z2 = linear_function(W2, S1, b2)\n",
        "    S2 = Z2\n",
        "    return S2\n",
        "def fit2PRC(X, y, n_features=1, n_neurons=7, n_output=1, iterations=10, eta=0.01):\n",
        "    \n",
        "    ## ~~ Initialize parameters ~~##\n",
        "    param = init_parameters(n_features=n_features, \n",
        "                            n_neurons=n_neurons, \n",
        "                            n_output=n_output)\n",
        "\n",
        "    ## ~~ storage errors after each iteration ~~##\n",
        "    errors = []\n",
        "    \n",
        "    for _ in range(iterations):\n",
        "        \n",
        "        ##~~ Forward-propagation ~~##\n",
        "        \n",
        "        Z1 = linear_function(param['W1'], X, param['b1'])\n",
        "        S1 = Z1\n",
        "        Z2 = linear_function(param['W2'], S1, param['b2'])\n",
        "        S2 = Z2\n",
        "        \n",
        "        ##~~ Error computation ~~##\n",
        "        error = cost_function(S2, y)\n",
        "        errors.append(error)\n",
        "        \n",
        "        ##~~ Backpropagation ~~##\n",
        "        \n",
        "        # update output weights\n",
        "        delta2 = (S2 - y)*eta\n",
        "        W2_gradients = S1.T @ delta2\n",
        "        param[\"W2\"] = param[\"W2\"] - W2_gradients * eta\n",
        "\n",
        "        # update output bias\n",
        "        param[\"b2\"] = param[\"b2\"] - np.sum(delta2, axis=0, keepdims=True) * eta\n",
        "\n",
        "        # update hidden weights\n",
        "        delta1 = (delta2 @ param[\"W2\"].T )*eta\n",
        "        W1_gradients = X.T @ delta1 \n",
        "        param[\"W1\"] = param[\"W1\"] - W1_gradients * eta\n",
        "\n",
        "        # update hidden bias\n",
        "        param[\"b1\"] = param[\"b1\"] - np.sum(delta1, axis=0, keepdims=True) * eta\n",
        "        \n",
        "    return errors, param"
      ]
    },
    {
      "cell_type": "code",
      "execution_count": null,
      "metadata": {
        "id": "_X-1yWC6jJ2c"
      },
      "outputs": [],
      "source": [
        "errors, param = fit2PRC(x, y, iterations=5000, eta=0.001)\n",
        "y_pred = predict2PRC(x, param[\"W1\"], param[\"W2\"], param[\"b1\"], param[\"b2\"])"
      ]
    },
    {
      "cell_type": "code",
      "source": [
        "class Perceptron:\n",
        "    def __init__(self, neurons):\n",
        "        self.hidden_weights = np.zeros(neurons)\n",
        "        self.hidden_biases = np.zeros(neurons)\n",
        "        self.output_weights = np.zeros(neurons)\n",
        "        self.hidden_outputs = np.zeros(neurons)\n",
        "        self.neurons = neurons\n",
        "        self.loss_list = list()\n",
        "\n",
        "    def init_w(self):\n",
        "        for i in range(self.neurons):\n",
        "            self.hidden_weights[i] = rnd.random() - 0.5\n",
        "            self.hidden_biases[i] = rnd.random() - 0.5\n",
        "            self.output_weights[i] = rnd.random() - 0.5\n",
        "\n",
        "    def activation(self, s, rounded: bool):\n",
        "        if rounded:\n",
        "            return 1 if 1 / (1 + math.exp(-s)) >= 0.5 else 0\n",
        "        else:\n",
        "            return 1 / (1 + math.exp(-s))\n",
        "\n",
        "    def div(self, s):\n",
        "        return self.activation(s, False) * (1 - self.activation(s, False))\n",
        "\n",
        "    def predict(self, x):\n",
        "        pred = 0\n",
        "        self.hidden_outputs = np.zeros(self.neurons)\n",
        "        for id in range(len(self.output_weights)):\n",
        "            self.hidden_outputs[id] = self.activation(self.hidden_weights[id] * x + self.hidden_biases[id], True)\n",
        "            pred = pred + self.output_weights[id] * self.hidden_outputs[id]\n",
        "        return pred\n",
        "\n",
        "    def get_predicts(self, x):\n",
        "        perceptron_predicts = np.zeros(len(x))\n",
        "        for id in range(len(x)):\n",
        "            perceptron_predicts[id] = self.predict(x[id])\n",
        "        return perceptron_predicts\n",
        "\n",
        "    def train(self, x_train, y_train, e):\n",
        "        self.loss_list = list()\n",
        "        for age in range(200):\n",
        "            loss = 0\n",
        "            for s_id in range(len(x_train)):\n",
        "                sample = x_train[s_id]\n",
        "                y_true = y_train[s_id]\n",
        "                y_predicted = self.predict(sample)\n",
        "                delta = y_true - y_predicted\n",
        "                loss += delta ** 2\n",
        "                rate = 0.5\n",
        "                if abs(y_true - y_predicted > e):\n",
        "                    grad = delta * self.div(np.dot(self.output_weights, self.hidden_outputs))\n",
        "                    for w_id in range(self.neurons):\n",
        "                        self.output_weights[w_id] \\\n",
        "                            = self.output_weights[w_id] \\\n",
        "                            - rate * grad * self.hidden_outputs[w_id]\n",
        "                    for w_id in range(self.neurons):\n",
        "                        self.hidden_weights[w_id]\\\n",
        "                            = self.hidden_weights[w_id] \\\n",
        "                            - rate \\\n",
        "                              * grad \\\n",
        "                              * self.output_weights[w_id] \\\n",
        "                              * self.div(self.hidden_weights[w_id] * sample + self.hidden_biases[w_id]) * sample\n",
        "                        self.hidden_biases[w_id]\\\n",
        "                            = self.hidden_biases[w_id] \\\n",
        "                            - rate \\\n",
        "                              * grad \\\n",
        "                              * self.output_weights[w_id] \\\n",
        "                              * self.div(self.hidden_weights[w_id] * sample + self.hidden_biases[w_id]) * sample\n",
        "\n",
        "                else:\n",
        "                    break\n",
        "            loss = math.sqrt(loss)\n",
        "            self.loss_list.append(loss)\n",
        "            if age % 100 == 0:\n",
        "                print(\"after age: \", age, \"\\n\",\n",
        "                      \"hidden weights:\", self.hidden_weights, \"\\n\",\n",
        "                      \"hidden biases:\", self.hidden_biases, \"\\n\",\n",
        "                      \"output_weights:\", self.output_weights,\n",
        "                )\n",
        "\n",
        "        return self.get_predicts(x_train)"
      ],
      "metadata": {
        "id": "lfy4IV7s-Q2X"
      },
      "execution_count": null,
      "outputs": []
    },
    {
      "cell_type": "code",
      "source": [
        "perc = Perceptron(9)\n",
        "perc.init_w()\n",
        "print(perc.hidden_weights, \"\\n\", perc.hidden_biases, \"\\n\", perc.output_weights)"
      ],
      "metadata": {
        "colab": {
          "base_uri": "https://localhost:8080/"
        },
        "id": "nPhdkLL199Vv",
        "outputId": "050ebf52-723f-441e-a5d9-f4502b51c902"
      },
      "execution_count": null,
      "outputs": [
        {
          "output_type": "stream",
          "name": "stdout",
          "text": [
            "[-0.09294023  0.03264163 -0.39257562  0.11132561  0.29544587 -0.34583778\n",
            " -0.32061222 -0.34283751  0.15630201] \n",
            " [ 0.02513858  0.38507552 -0.18809336  0.44100823 -0.46332595 -0.07607825\n",
            " -0.21249822 -0.15581686  0.03470967] \n",
            " [-0.05868869 -0.41839453  0.34745248  0.45707162  0.02332642 -0.46473532\n",
            " -0.25493529  0.33409869 -0.42933825]\n"
          ]
        }
      ]
    },
    {
      "cell_type": "code",
      "execution_count": null,
      "metadata": {
        "colab": {
          "base_uri": "https://localhost:8080/",
          "height": 525
        },
        "id": "5orF7q22jZ5-",
        "outputId": "790fa63d-2562-4cd8-d51b-7d541dd71bf6"
      },
      "outputs": [
        {
          "output_type": "stream",
          "name": "stdout",
          "text": [
            "after age:  0 \n",
            " hidden weights: [-70.37136286 -77.05345485 -35.43005644   4.49300557   0.39400333\n",
            " -42.68742817 -49.13518857 -41.02521734  -3.44710993] \n",
            " hidden biases: [ 0.02516265  0.38510066 -0.18807083  0.44100689 -0.3967687  -0.07605297\n",
            " -0.21247408 -0.15579424  0.0347105 ] \n",
            " output_weights: [-7.75370561 -8.11959157 -7.34756131  0.45088837  0.02332642 -8.1597491\n",
            " -7.94994907 -7.3609151  -0.4355215 ]\n",
            "after age:  100 \n",
            " hidden weights: [-70.36994325 -77.05193896 -35.4287278    4.49295864   0.39399919\n",
            " -42.68593686 -49.1337645  -41.02388324  -3.44699585] \n",
            " hidden biases: [ 0.02658225  0.38661655 -0.18674219  0.44095996 -0.39677284 -0.07456166\n",
            " -0.21105    -0.15446014  0.03482459] \n",
            " output_weights: [-7.75388445 -8.48389395 -7.34756131  0.08658599  0.02332642 -8.15974918\n",
            " -7.94994907 -7.3609151  -0.79982388]\n"
          ]
        },
        {
          "output_type": "display_data",
          "data": {
            "text/plain": [
              "<Figure size 432x288 with 1 Axes>"
            ],
            "image/png": "[encoded data removed]"
          },
          "metadata": {
            "needs_background": "light"
          }
        }
      ],
      "source": [
        "plt.plot(x, predictRBF(x), \"g\", label=\"Радиально-базисная сеть\")\n",
        "plt.plot(x, y, \"black\", label=\"Функция\")\n",
        "plt.plot(x, perc.train(x, y, 1), label=\"perceptron\")\n",
        "plt.xlabel(\"x\")\n",
        "plt.ylabel(\"y\")\n",
        "plt.legend()\n",
        "plt.grid()\n",
        "plt.show()"
      ]
    },
    {
      "cell_type": "markdown",
      "metadata": {
        "id": "i8vIilPVQcm7"
      },
      "source": [
        "Задание 2"
      ]
    },
    {
      "cell_type": "code",
      "execution_count": null,
      "metadata": {
        "id": "DfZjOiewjnrR"
      },
      "outputs": [],
      "source": [
        "# температура воздуха в Гомеле\n",
        "# последний месяц\n",
        "y = np.array([[6.15],[6.13],[6.17],[6.18],[6.19],[6.19],[6.20],[6.20],[6.21],[6.23],[6.24],[6.24],[6.24],[6.26],[6.30],[6.13],[6.22],[6.25],[6.25],[6.25],[6.30],[6.28],[6.29],[6.30],[6.19],[6.18],[6.18],[6.23],[6.25],[6.24],[6.19]])\n",
        "x = np.array([[1],[2],[3],[4],[5],[6],[7],[8],[9],[10],[11],[12],[13],[14],[15],[16],[17],[18],[19],[20],[21],[22],[23],[24],[25],[26],[27],[28],[29],[30],[31]])\n",
        "\n",
        "interpMtx = np.zeros((len(x), countOfHiddenNeuronsRBF))\n",
        "centers = x[np.random.choice(len(x), countOfHiddenNeuronsRBF)]\n",
        "\n",
        "def rbf(point, center):\n",
        "    return np.exp(-np.linalg.norm((point - center) ** 2 / (2 * sigma ** 2)))\n",
        "\n",
        "for i in range(len(x)):\n",
        "    for j in range(len(centers)):\n",
        "        interpMtx[i, j] = rbf(x[i], centers[j])\n",
        "\n",
        "weightsRBF = np.linalg.pinv(interpMtx) @ y\n",
        "\n",
        "def predictZAD2(x):\n",
        "    mtx = np.zeros((len(x), countOfHiddenNeuronsRBF))\n",
        "    for i in range(len(x)):\n",
        "        for j in range(len(centers)):\n",
        "            mtx[i, j] = rbf(x[i], centers[j])\n",
        "    return mtx @ weightsRBF"
      ]
    },
    {
      "cell_type": "code",
      "execution_count": null,
      "metadata": {
        "id": "3uzocBL2jo92"
      },
      "outputs": [],
      "source": [
        "y = np.array([6.15,6.13,6.17,6.18,6.19,6.19,6.20,6.20,6.21,6.23,6.24,6.24,6.24,6.26,6.30,6.13,6.22,6.25,6.25,6.25,6.30,6.28,6.29,6.30,6.19,6.18,6.18,6.23,6.25,6.24,6.19])"
      ]
    },
    {
      "cell_type": "code",
      "execution_count": null,
      "metadata": {
        "id": "1dQyDcWhjxj8"
      },
      "outputs": [],
      "source": [
        "class RecurrentNeuralNetwork:\n",
        "    def __init__(self, input_number, hidden_number, output_number, l_rate=0.1):\n",
        "        self.l_rate = l_rate\n",
        "        self.w1 = np.random.uniform(-np.sqrt(1 / input_number), np.sqrt(1 / input_number), size=[input_number, hidden_number])\n",
        "        self.b1 = np.random.uniform(size=[1, hidden_number])\n",
        "        self.w2 = np.random.uniform(-np.sqrt(1 / hidden_number), np.sqrt(1 / hidden_number), size=[hidden_number, hidden_number])\n",
        "        self.b2 = np.random.uniform(size=[1, hidden_number])\n",
        "        self.h = np.zeros(shape=[1, hidden_number])\n",
        "        self.h_prev = np.zeros(shape=[1, hidden_number])\n",
        "        self.w3 = np.random.uniform(-np.sqrt(1 / hidden_number), np.sqrt(1 / hidden_number), size=[hidden_number, output_number])\n",
        "\n",
        "    def transfer(self, x):\n",
        "        return np.tanh(x)\n",
        "\n",
        "    def transfer_derivative(self, output):\n",
        "        return (1 - np.tanh(output) ** 2)\n",
        "\n",
        "    def forward_propagate(self, x):\n",
        "        self.x = x\n",
        "        self.h_prev = self.h\n",
        "        self.h = np.dot(self.x,self.w1) + self.b1 + np.dot(self.h_prev,self.w2) + self.b2\n",
        "        self.h = self.transfer(self.h)\n",
        "        self.output = np.dot(self.h,self.w3)\n",
        "        return self.output\n",
        "    \n",
        "    def backward_propagate(self, y):\n",
        "        error = self.output - y\n",
        "        self.dw = np.dot(self.h.T,error)\n",
        "        delta = self.transfer_derivative(self.h) * np.dot(error,self.w3.T)\n",
        "        self.dw_w1 = np.dot(self.x.T,delta)\n",
        "        self.db_b1 = delta\n",
        "        self.dw_w2 = np.dot(self.h_prev.T,delta)\n",
        "        self.db_b2 = delta\n",
        "        \n",
        "    def update_weights(self):\n",
        "        self.w1 -= self.l_rate * self.dw_w1\n",
        "        self.b1 -= self.l_rate * self.db_b1\n",
        "        self.w2 -= self.l_rate * self.dw_w2\n",
        "        self.b2 -= self.l_rate * self.db_b2\n",
        "        self.w3 -= self.l_rate * self.dw\n",
        "\n",
        "class SlidingLayer:\n",
        "    def __init__(self, n_inputs, n_output, isActivate = False):\n",
        "               \n",
        "        self.weight = np.random.uniform(low=-np.sqrt(1 / n_inputs), \n",
        "            high=np.sqrt(1 / n_inputs), size=[n_inputs, n_output])\n",
        "\n",
        "        self.isActivate = isActivate\n",
        "\n",
        "    def transfer(self, activation):\n",
        "        if self.isActivate:\n",
        "            return np.tanh(activation)\n",
        "        return activation\n",
        "\n",
        "    def transfer_derivative(self, output):\n",
        "        if self.isActivate:\n",
        "            return 1 - np.tanh(output) ** 2\n",
        "        return 1\n",
        "\n",
        "    def forward_propagate(self, x):\n",
        "        self.input = x\n",
        "        self.not_activated = np.dot(x,self.weight)\n",
        "        self.out = self.transfer(self.not_activated)\n",
        "        return self.out\n",
        "    \n",
        "    def backward_propagate(self, error):\n",
        "        delta = error * self.transfer_derivative(self.not_activated)\n",
        "        self.dw = np.dot(self.input.T,delta)\n",
        "        return np.dot(delta,self.weight.T)\n",
        "\n",
        "\n",
        "class SlidingPerceptron:\n",
        "    def __init__(self, l_rate=0.1):\n",
        "        self.l_rate = l_rate\n",
        "        self.layers = []        \n",
        "        self.output = 0\n",
        "        \n",
        "    def append_layer(self, n_inputs, n_output, isActivate = False):\n",
        "        self.layers.append(SlidingLayer(n_inputs, n_output, isActivate))\n",
        "    \n",
        "    def forward_propagate(self, input):\n",
        "        self.output = input\n",
        "        for layer in self.layers:\n",
        "            self.output = layer.forward_propagate(self.output)\n",
        "        return self.output\n",
        "    \n",
        "    def backward_propagate(self, y):\n",
        "        error = self.output - y\n",
        "        for layer in list(reversed(self.layers)):\n",
        "            error = layer.backward_propagate(error)\n",
        "    \n",
        "    def update_weights(self):\n",
        "        for layer in self.layers:\n",
        "            layer.weight -= self.l_rate * layer.dw"
      ]
    },
    {
      "cell_type": "code",
      "execution_count": null,
      "metadata": {
        "colab": {
          "base_uri": "https://localhost:8080/"
        },
        "id": "E9TouNIKJ98R",
        "outputId": "4e6c24ca-ea50-42b9-9cc3-2596f87ffa05"
      },
      "outputs": [
        {
          "output_type": "display_data",
          "data": {
            "text/plain": [
              "<Figure size 432x288 with 1 Axes>"
            ],
            "image/png": "[encoded data removed]"
          },
          "metadata": {
            "needs_background": "light"
          }
        }
      ],
      "source": [
        "class RNN:\n",
        "    \"\"\"\n",
        "    Класс рекуррентной нейронной сети (сети Элмана)\n",
        "    \"\"\"\n",
        "    def __init__(self, input_number, hidden_number, output_number, lr=0.01):\n",
        "        \"\"\"\n",
        "        Конструктор класса\n",
        "        input_number - число входных нейронов\n",
        "        hidden_number - число нейронов на скрытом слое\n",
        "        output_number - число выходных нейронов\n",
        "        lr - скорость обучения\n",
        "        \"\"\"\n",
        "        self.lr = lr\n",
        "\n",
        "        self.w_ih = np.random.uniform(-np.sqrt(1 / input_number), np.sqrt(1 / input_number), \n",
        "            size=[input_number, hidden_number])\n",
        "        self.b_ih = np.random.uniform(size=[1, hidden_number])\n",
        "\n",
        "        self.w_hh = np.random.uniform(-np.sqrt(1 / hidden_number), np.sqrt(1 / hidden_number), \n",
        "            size=[hidden_number, hidden_number])\n",
        "        self.b_hh = np.random.uniform(size=[1, hidden_number])\n",
        "\n",
        "        self.h = np.zeros(shape=[1, hidden_number])\n",
        "        self.h_t_1 = np.zeros(shape=[1, hidden_number])\n",
        "\n",
        "        self.w = np.random.uniform(-np.sqrt(1 / hidden_number), np.sqrt(1 / hidden_number), \n",
        "            size=[hidden_number, output_number])\n",
        "        \n",
        "    def forward(self, x):\n",
        "        \"\"\"\n",
        "        Функция прямого распространения\n",
        "        \"\"\"\n",
        "        self.x = x\n",
        "        self.h_t_1 = self.h\n",
        "        self.h = self.x @ self.w_ih + self.b_ih + self.h_t_1 @ self.w_hh + self.b_hh\n",
        "        self.h = np.tanh(self.h)\n",
        "        self.out = self.h @ self.w\n",
        "        return self.out\n",
        "    \n",
        "    def __call__(self, *args):\n",
        "        \"\"\"\n",
        "        Перегруженная функция\n",
        "        Вместо .forward(x) можно написать (x)\n",
        "        \"\"\"\n",
        "        return self.forward(*args)\n",
        "    \n",
        "    def backward(self, y):\n",
        "        \"\"\"\n",
        "        Функция обратного распространения, в которой рассчитываются градиенты\n",
        "        \"\"\"\n",
        "        dloss = self.out - y\n",
        "        self.dw = self.h.T @ dloss\n",
        "        dh = dloss @ self.w.T\n",
        "        grad = (1 - np.tanh(self.h) ** 2) * dh\n",
        "        self.dw_ih = self.x.T @ grad\n",
        "        self.db_ih = 1 * grad\n",
        "        self.dw_hh = self.h_t_1.T @ grad\n",
        "        self.db_hh = 1 * grad\n",
        "        \n",
        "    def update(self):\n",
        "        \"\"\"\n",
        "        Функция обновления весов\n",
        "        \"\"\"\n",
        "        self.w -= self.lr * self.dw\n",
        "        self.w_ih -= self.lr * self.dw_ih\n",
        "        self.b_ih -= self.lr * self.db_ih\n",
        "        self.w_hh -= self.lr * self.dw_hh\n",
        "        self.b_hh -= self.lr * self.db_hh\n",
        "\n",
        "sequence_len = 20\n",
        "dataset = y\n",
        "\n",
        "mean = np.mean(dataset)\n",
        "std = np.std(dataset)\n",
        "rnn = RecurrentNeuralNetwork(sequence_len, 31, 1, 0.002)\n",
        "perceptron = SlidingPerceptron(0.002)\n",
        "perceptron.append_layer(sequence_len, 31, isActivate = True)\n",
        "perceptron.append_layer(31, 1)\n",
        "for epoch in range(2500):\n",
        "    q = np.random.randint(0, sequence_len)\n",
        "    for i in range(q, len(dataset) - sequence_len, sequence_len):\n",
        "        x = (np.array(dataset[i : i+sequence_len]).reshape(1, sequence_len) - mean) / std\n",
        "        y = (np.array(dataset[i+sequence_len : i+sequence_len+1]).reshape(1, 1) - mean) / std\n",
        "        rnn.forward_propagate(x)\n",
        "        rnn.backward_propagate(y)\n",
        "        rnn.update_weights()\n",
        "        perceptron.forward_propagate(x)\n",
        "        perceptron.backward_propagate(y)\n",
        "        perceptron.update_weights()\n",
        "rnn_y = []\n",
        "perceptron_y = []\n",
        "\n",
        "for i in dataset[-sequence_len:]:\n",
        "    rnn_y.append((i - mean) / std)\n",
        "    perceptron_y.append((i - mean) / std)\n",
        "\n",
        "for i in range(len(dataset)):\n",
        "    out_rnn = rnn.forward_propagate(np.array(rnn_y[i:i+sequence_len]).reshape(1, sequence_len)).reshape(-1)\n",
        "    out_perceptron = perceptron.forward_propagate(np.array(perceptron_y[i:i+sequence_len]).reshape(1, sequence_len)).reshape(-1)\n",
        "    rnn_y.append(out_rnn[0])\n",
        "    perceptron_y.append(out_perceptron[0])\n",
        "    \n",
        "elpred = np.array(rnn_y[sequence_len:]) * std + mean\n",
        "perpred = np.array(perceptron_y[sequence_len:])* std + mean\n",
        "plt.plot(elpred, label=\"Сеть Элмана\")\n",
        "plt.plot(perpred, label=\"Персептрон\")\n",
        "y = np.array([[6.15],[6.13],[6.17],[6.18],[6.19],[6.19],[6.20],[6.20],[6.21],[6.23],[6.24],[6.24],[6.24],[6.26],[6.30],[6.13],[6.22],[6.25],[6.25],[6.25],[6.30],[6.28],[6.29],[6.30],[6.19],[6.18],[6.18],[6.23],[6.25],[6.24],[6.19]])\n",
        "plt.plot(y,\"black\", label=\"Температура воздуха в Гомеле\")\n",
        "plt.xlabel(\"День\")\n",
        "plt.ylabel(\"Температура воздуха в Гомеле\")\n",
        "plt.legend()\n",
        "plt.grid()\n",
        "plt.show()"
      ]
    },
    {
      "cell_type": "code",
      "execution_count": null,
      "metadata": {
        "id": "uiDF-taaNNG7"
      },
      "outputs": [],
      "source": [
        "y = np.array([6.15,6.13,6.17,6.18,6.19,6.19,6.20,6.20,6.21,6.23,6.24,6.24,6.24,6.26,6.30,6.13,6.22,6.25,6.25,6.25,6.30,6.28,6.29,6.30,6.19,6.18,6.18,6.23,6.25,6.24,6.19])"
      ]
    },
    {
      "cell_type": "code",
      "execution_count": null,
      "metadata": {
        "id": "P91NHjt8N3AA"
      },
      "outputs": [],
      "source": [
        "for i in range(len(perpred)):\n",
        "  perpred[i] = round(perpred[i], 2)\n",
        "  elpred[i] = round(elpred[i], 2)"
      ]
    },
    {
      "cell_type": "code",
      "execution_count": null,
      "metadata": {
        "colab": {
          "base_uri": "https://localhost:8080/"
        },
        "id": "wV0I97pkM-JG",
        "outputId": "f3601416-ed7f-4f47-99ba-9166dc03df01"
      },
      "outputs": [
        {
          "output_type": "stream",
          "name": "stdout",
          "text": [
            "Персептрон: \n",
            "[6.22 6.21 6.15 6.12 6.15 6.18 6.24 6.23 6.17 6.16 6.17 6.17 6.17 6.2\n",
            " 6.24 6.32 6.31 6.26 6.21 6.22 6.24 6.28 6.3  6.32 6.34 6.31 6.25 6.18\n",
            " 6.17 6.21 6.25]\n",
            "Сеть Элмана: \n",
            "[6.22 6.26 6.23 6.21 6.19 6.18 6.2  6.21 6.19 6.2  6.23 6.26 6.27 6.25\n",
            " 6.22 6.22 6.22 6.22 6.22 6.24 6.26 6.28 6.28 6.26 6.25 6.24 6.22 6.21\n",
            " 6.2  6.19 6.21]\n",
            "Исходные данные: \n",
            "[6.15 6.13 6.17 6.18 6.19 6.19 6.2  6.2  6.21 6.23 6.24 6.24 6.24 6.26\n",
            " 6.3  6.13 6.22 6.25 6.25 6.25 6.3  6.28 6.29 6.3  6.19 6.18 6.18 6.23\n",
            " 6.25 6.24 6.19]\n"
          ]
        }
      ],
      "source": [
        "print(\"Персептрон: \")\n",
        "print(perpred)\n",
        "print(\"Сеть Элмана: \")\n",
        "print(elpred)\n",
        "print(\"Исходные данные: \")\n",
        "print(y)"
      ]
    },
    {
      "cell_type": "code",
      "execution_count": null,
      "metadata": {
        "id": "gQ8Nmr_qOlRm"
      },
      "outputs": [],
      "source": [
        "perp_acc = 0\n",
        "el_acc = 0\n",
        "\n",
        "for i in range(len(perpred)):\n",
        "  if abs(y[i] - perpred[i]) <= 0.05:\n",
        "    perp_acc += 1\n",
        "  if abs(y[i] - elpred[i]) <= 0.05:\n",
        "    el_acc += 1\n",
        "\n",
        "perp_acc /= round(len(perpred), 2)\n",
        "el_acc /= round(len(elpred), 2)"
      ]
    },
    {
      "cell_type": "code",
      "execution_count": null,
      "metadata": {
        "colab": {
          "base_uri": "https://localhost:8080/"
        },
        "id": "yRgz-4KwPHiD",
        "outputId": "188cebdb-4d50-4b05-c51d-e0fedb923192"
      },
      "outputs": [
        {
          "output_type": "stream",
          "name": "stdout",
          "text": [
            "Точность на персептроне: 0.41935483870967744\n",
            "Точность на сети Элмана: 0.7741935483870968\n"
          ]
        }
      ],
      "source": [
        "print(\"Точность на персептроне: \" + str(perp_acc))\n",
        "print(\"Точность на сети Элмана: \" + str(el_acc))"
      ]
    }
  ],
  "metadata": {
    "colab": {
      "provenance": []
    },
    "kernelspec": {
      "display_name": "Python 3",
      "name": "python3"
    },
    "language_info": {
      "name": "python"
    }
  },
  "nbformat": 4,
  "nbformat_minor": 0
}