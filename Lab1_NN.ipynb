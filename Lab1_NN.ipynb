{
  "nbformat": 4,
  "nbformat_minor": 0,
  "metadata": {
    "colab": {
      "provenance": [],
      "collapsed_sections": []
    },
    "kernelspec": {
      "name": "python3",
      "display_name": "Python 3"
    },
    "language_info": {
      "name": "python"
    }
  },
  "cells": [
    {
      "cell_type": "code",
      "execution_count": null,
      "metadata": {
        "id": "a9uUzT9XAkX5"
      },
      "outputs": [],
      "source": [
        "import numpy as np\n",
        "import random\n",
        "from sklearn.metrics import accuracy_score"
      ]
    },
    {
      "cell_type": "code",
      "source": [
        "def bit_func(x, y):\n",
        "  return x | y & ~y"
      ],
      "metadata": {
        "id": "Yl-2tl83-3dg"
      },
      "execution_count": null,
      "outputs": []
    },
    {
      "cell_type": "code",
      "source": [
        "def step_func(x):\n",
        "  if(x > 0):\n",
        "    return 1\n",
        "  else:\n",
        "    return 0\n",
        "\n",
        "class Neuron:\n",
        "  def __init__(self, weights, bias):\n",
        "    self.weights = weights\n",
        "    self.bias = bias\n",
        "\n",
        "  def get_sum(self, x):\n",
        "    sum = self.bias\n",
        "    for i in range(len(self.weights)):\n",
        "      sum += self.weights[i] * x[i]\n",
        "    return sum\n",
        "\n",
        "  def feed(self, x):\n",
        "    y = step_func(self.get_sum(x))\n",
        "    return y\n",
        "    \n",
        "  def print_params(self):\n",
        "    n_str = ''\n",
        "    for i in range(len(self.weights)):\n",
        "      n_str += str(self.weights[i]) + \" \"\n",
        "    print(n_str + str(self.bias))\n",
        "\n",
        "class Network:\n",
        "  def __init__(self):\n",
        "    self.n1 = Neuron([random.randint(-5, 5), random.randint(-5, 5)], random.randint(-5, 5))\n",
        "    self.n2 = Neuron([random.randint(-5, 5), random.randint(-5, 5)], random.randint(-5, 5))\n",
        "    self.o1 = Neuron([random.randint(-5, 5), random.randint(-5, 5)], random.randint(-5, 5))\n",
        "\n",
        "    # self.n1 = Neuron([-1, 1], 1)\n",
        "    # self.n2 = Neuron([1, -1], 1)\n",
        "    # self.o1 = Neuron([1, 1], 1)\n",
        "\n",
        "    # self.n1 = Neuron([1, 1], 1)\n",
        "    # self.n2 = Neuron([1, 1], 1)\n",
        "    # self.o1 = Neuron([1, 1], 1)\n",
        "  def printNeurons(self):\n",
        "    print(\"[\" + str(round(self.n1.weights[0], 2)) + \" \" + str(round(self.n1.weights[1], 2)) + \" \" + str(round(self.n1.bias, 2)) + \" \" +\n",
        "                str(round(self.n2.weights[0], 2)) + \" \" + str(round(self.n2.weights[1], 2)) + \" \" + str(round(self.n2.bias, 2)) + \" \" +\n",
        "                str(round(self.o1.weights[0], 2)) + \" \" + str(round(self.o1.weights[1], 2)) + \" \" + str(round(self.o1.bias, 2)) + \"]\")\n",
        " \n",
        "  def predict(self, data):\n",
        "    y_pred = []\n",
        "    for x in data:\n",
        "      h1 = self.n1.feed(x)\n",
        "      h2 = self.n2.feed(x)\n",
        "      h = [h1, h2]\n",
        "      y_pred.append(self.o1.feed(h))\n",
        "    return(y_pred)\n",
        "\n",
        "  def trainHebb(self, data, y_trues):\n",
        "    epochs = 15\n",
        "    self.printNeurons()\n",
        "    # Цикл по эпохам\n",
        "    for epoch in range(epochs):\n",
        "      # Цикл по данным\n",
        "      for x, y_true in zip(data, y_trues):\n",
        "        # Вычисление воходов нейронов первого слоя\n",
        "        h1 = self.n1.feed(x)\n",
        "        h2 = self.n2.feed(x)\n",
        "        h = [h1, h2]\n",
        "        # Вычисление выхода сети\n",
        "        out1 = self.o1.feed(h)\n",
        "        # Сравнение с правильным ответом и коррекция весов\n",
        "        if(out1 > y_true):\n",
        "          for i in range(len(x)):\n",
        "            self.n1.weights[i] -= x[i]\n",
        "            self.n2.weights[i] -= x[i]\n",
        "            self.o1.weights[i] -= h[i]\n",
        "          self.n1.bias -= 1\n",
        "          self.n2.bias -= 1\n",
        "          self.o1.bias -= 1\n",
        "        elif(out1 < y_true):\n",
        "          for i in range(len(x)):\n",
        "            self.n1.weights[i] += x[i]\n",
        "            self.n2.weights[i] += x[i]\n",
        "            self.o1.weights[i] += h[i]\n",
        "          self.n1.bias += 1\n",
        "          self.n2.bias += 1\n",
        "          self.o1.bias += 1\n",
        "      # Оценка точности на каждой эпохе\n",
        "      y_preds = self.predict(data)\n",
        "      acc = accuracy_score(y_trues, y_preds)\n",
        "      print(\"Epoch %d acc: %.3f\" % (epoch, acc))\n",
        "      self.printNeurons()\n",
        "    # Оценка точности после обучения\n",
        "    y_preds = self.predict(data)\n",
        "    acc = accuracy_score(y_trues, y_preds)\n",
        "    print(\"acc: \" + str(acc))\n",
        "    self.printNeurons()\n",
        "      \n",
        "all_data = np.array([\n",
        "  [0, 0],\n",
        "  [1, 0],\n",
        "  [0, 1],\n",
        "  [1, 1],\n",
        "])\n",
        "\n",
        "all_y_trues = np.array([\n",
        "  0,\n",
        "  1,\n",
        "  0,\n",
        "  1,\n",
        "])\n",
        "\n",
        "network = Network()\n",
        "network.trainHebb(all_data, all_y_trues)"
      ],
      "metadata": {
        "id": "_TqPuDO9Anai",
        "colab": {
          "base_uri": "https://localhost:8080/"
        },
        "outputId": "f04ef6c2-00f5-4df5-fe06-12b583ef7344"
      },
      "execution_count": null,
      "outputs": [
        {
          "output_type": "stream",
          "name": "stdout",
          "text": [
            "[3 1 -2 3 1 2 1 -1 3]\n",
            "Epoch 0 acc: 1.000\n",
            "[4 0 -3 4 0 1 1 -2 2]\n",
            "Epoch 1 acc: 1.000\n",
            "[4 0 -3 4 0 1 1 -2 2]\n",
            "Epoch 2 acc: 1.000\n",
            "[4 0 -3 4 0 1 1 -2 2]\n",
            "Epoch 3 acc: 1.000\n",
            "[4 0 -3 4 0 1 1 -2 2]\n",
            "Epoch 4 acc: 1.000\n",
            "[4 0 -3 4 0 1 1 -2 2]\n",
            "Epoch 5 acc: 1.000\n",
            "[4 0 -3 4 0 1 1 -2 2]\n",
            "Epoch 6 acc: 1.000\n",
            "[4 0 -3 4 0 1 1 -2 2]\n",
            "Epoch 7 acc: 1.000\n",
            "[4 0 -3 4 0 1 1 -2 2]\n",
            "Epoch 8 acc: 1.000\n",
            "[4 0 -3 4 0 1 1 -2 2]\n",
            "Epoch 9 acc: 1.000\n",
            "[4 0 -3 4 0 1 1 -2 2]\n",
            "Epoch 10 acc: 1.000\n",
            "[4 0 -3 4 0 1 1 -2 2]\n",
            "Epoch 11 acc: 1.000\n",
            "[4 0 -3 4 0 1 1 -2 2]\n",
            "Epoch 12 acc: 1.000\n",
            "[4 0 -3 4 0 1 1 -2 2]\n",
            "Epoch 13 acc: 1.000\n",
            "[4 0 -3 4 0 1 1 -2 2]\n",
            "Epoch 14 acc: 1.000\n",
            "[4 0 -3 4 0 1 1 -2 2]\n",
            "acc: 1.0\n",
            "[4 0 -3 4 0 1 1 -2 2]\n"
          ]
        }
      ]
    },
    {
      "cell_type": "code",
      "source": [
        "network.predict([[0,1]])"
      ],
      "metadata": {
        "colab": {
          "base_uri": "https://localhost:8080/"
        },
        "id": "Hu-t7iYuM8Iw",
        "outputId": "47ac16b5-9db8-473c-fedd-556700d7e429"
      },
      "execution_count": null,
      "outputs": [
        {
          "output_type": "execute_result",
          "data": {
            "text/plain": [
              "[0]"
            ]
          },
          "metadata": {},
          "execution_count": 13
        }
      ]
    }
  ]
}