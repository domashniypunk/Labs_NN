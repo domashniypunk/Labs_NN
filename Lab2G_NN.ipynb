{
  "nbformat": 4,
  "nbformat_minor": 0,
  "metadata": {
    "colab": {
      "provenance": [],
      "collapsed_sections": []
    },
    "kernelspec": {
      "name": "python3",
      "display_name": "Python 3"
    },
    "language_info": {
      "name": "python"
    }
  },
  "cells": [
    {
      "cell_type": "code",
      "execution_count": null,
      "metadata": {
        "id": "3XCCHJKQ05aB"
      },
      "outputs": [],
      "source": [
        "import numpy as np\n",
        "import random\n",
        "import matplotlib.pyplot as plt\n",
        "from sklearn.metrics import accuracy_score\n",
        "from PIL import Image"
      ]
    },
    {
      "cell_type": "code",
      "source": [
        "from google.colab import drive\n",
        "drive.mount('/content/drive')"
      ],
      "metadata": {
        "colab": {
          "base_uri": "https://localhost:8080/"
        },
        "id": "Y0SEnvCV0_dF",
        "outputId": "54a7290f-99ff-40e6-88d7-33271efe95b5"
      },
      "execution_count": null,
      "outputs": [
        {
          "output_type": "stream",
          "name": "stdout",
          "text": [
            "Mounted at /content/drive\n"
          ]
        }
      ]
    },
    {
      "cell_type": "code",
      "source": [
        "plt.figure(figsize=(10,10))\n",
        "\n",
        "def get_img(path):\n",
        "  test_img = Image.open(path)\n",
        "  # test_img = test_img.resize((6, 6))\n",
        "  plt.subplot(5,5,i)\n",
        "  plt.imshow(test_img, cmap = \"gray\")\n",
        "  test_img = test_img.convert('1')\n",
        "  test_x = np.array(test_img, np.float32)\n",
        "  test_x = test_x.reshape([-1, 36])\n",
        "  return test_x"
      ],
      "metadata": {
        "colab": {
          "base_uri": "https://localhost:8080/",
          "height": 34
        },
        "id": "LrhccPcK1A10",
        "outputId": "fa650d5b-906b-4359-af2e-9dde6ecd9b4b"
      },
      "execution_count": null,
      "outputs": [
        {
          "output_type": "display_data",
          "data": {
            "text/plain": [
              "<Figure size 720x720 with 0 Axes>"
            ]
          },
          "metadata": {}
        }
      ]
    },
    {
      "cell_type": "code",
      "source": [
        "x_train = []\n",
        "y_train = []\n",
        "  \n",
        "path = '/content/drive/My Drive/LABS_NN/LAB2_NN/Smile/1_'\n",
        "for i in range(1,11,1):\n",
        "  x_train.append(get_img(path + str(i) +'.jpg')[0])\n",
        "  y_train.append(1)"
      ],
      "metadata": {
        "colab": {
          "base_uri": "https://localhost:8080/",
          "height": 131
        },
        "id": "xMrzNTQ91PVt",
        "outputId": "cd898fec-0ece-4064-8067-0d98c7357104"
      },
      "execution_count": null,
      "outputs": [
        {
          "output_type": "display_data",
          "data": {
            "text/plain": [
              "<Figure size 432x288 with 10 Axes>"
            ],
            "image/png": "[encoded data removed]"
          },
          "metadata": {
            "needs_background": "light"
          }
        }
      ]
    },
    {
      "cell_type": "code",
      "source": [
        "path = '/content/drive/My Drive/LABS_NN/LAB2_NN/Sad/2.'\n",
        "for i in range(1,11,1):\n",
        "  x_train.append(get_img(path + str(i) +'.jpg')[0])\n",
        "  y_train.append(0)"
      ],
      "metadata": {
        "colab": {
          "base_uri": "https://localhost:8080/",
          "height": 131
        },
        "id": "J9T9Ymrs1TFG",
        "outputId": "75274224-1ced-4180-d7a8-8d38e51d2455"
      },
      "execution_count": null,
      "outputs": [
        {
          "output_type": "display_data",
          "data": {
            "text/plain": [
              "<Figure size 432x288 with 10 Axes>"
            ],
            "image/png": "[encoded data removed]"
          },
          "metadata": {
            "needs_background": "light"
          }
        }
      ]
    },
    {
      "cell_type": "code",
      "source": [
        "print(x_train[0])"
      ],
      "metadata": {
        "colab": {
          "base_uri": "https://localhost:8080/"
        },
        "id": "YAiVrDPS1UYF",
        "outputId": "edfc7a92-7838-4cac-d253-c9e4bb79af82"
      },
      "execution_count": null,
      "outputs": [
        {
          "output_type": "stream",
          "name": "stdout",
          "text": [
            "[1. 1. 1. 1. 1. 1. 1. 0. 1. 0. 0. 1. 1. 1. 1. 1. 1. 1. 0. 0. 1. 1. 0. 0.\n",
            " 1. 0. 0. 0. 0. 1. 1. 1. 1. 1. 1. 1.]\n"
          ]
        }
      ]
    },
    {
      "cell_type": "code",
      "source": [
        "def fun_sigmoid(s):\n",
        "  return 1 / (1 + np.exp(-s))\n",
        "\n",
        "def fun_der_sigm(s):\n",
        "  return fun_sigmoid(s) * (1 - fun_sigmoid(s))\n",
        "\n",
        "def err_acc(pred_y, tst_y, eps):\n",
        "  hit = 0\n",
        "  for i in range(len(tst_y)):\n",
        "    if(np.abs(pred_y[i] - tst_y[i]) < eps): hit = hit + 1\n",
        "  return hit / len(tst_y)\n",
        "\n",
        "def err_los(pred_y, tst_y):\n",
        "  loss = 0\n",
        "  for i in range(len(tst_y)):\n",
        "    loss += np.square(pred_y[i] - tst_y[i])\n",
        "  loss = np.sqrt(loss) / len(tst_y)\n",
        "  return loss\n",
        "\n",
        "class Neuron:\n",
        "  def __init__(self, weightsCount, number = None):\n",
        "    if number is None: \n",
        "      self.weights = []\n",
        "      for i in range(weightsCount):\n",
        "        self.weights.append(np.random.normal() * 3)\n",
        "      self.bias = np.random.normal() * 3\n",
        "    else:\n",
        "      self.weights = [] \n",
        "      for i in range(weightsCount):\n",
        "        self.weights.append(number)\n",
        "      self.bias = number\n",
        "\n",
        "  def get_sum(self, x):\n",
        "    sum = self.bias\n",
        "    for i in range(len(self.weights)):\n",
        "      sum += self.weights[i] * x[i]\n",
        "    return sum\n",
        "\n",
        "  def feed(self, x):\n",
        "    y = fun_sigmoid(self.get_sum(x))\n",
        "    return y\n",
        "\n",
        "  def print_params(self):\n",
        "    n_str = ''\n",
        "    for i in range(len(self.weights)):\n",
        "      n_str += str(self.weights[i]) + \" \"\n",
        "    print(n_str + str(self.bias))\n",
        "\n",
        "  def change_weights(self, value, x):\n",
        "    for i in range(len(self.weights)):\n",
        "      if(x[i] == 1):\n",
        "        self.weights[i] += value\n",
        "    self.bias += value\n",
        "\n",
        "class Network:\n",
        "  def __init__(self, x_count):\n",
        "    self.NeuronsL1 = []\n",
        "    self.NeuronsL2 = []\n",
        "    self.NeuronsL3 = Neuron(12)\n",
        "    for i in range(25):\n",
        "      n = Neuron(x_count)\n",
        "      self.NeuronsL1.append(n)\n",
        "    for i in range(12):\n",
        "      n = Neuron(25)\n",
        "      self.NeuronsL2.append(n)\n",
        "\n",
        "  def predict(self, data):\n",
        "    y_pred = []\n",
        "    for x in data:\n",
        "      res1 = []\n",
        "      for n in self.NeuronsL1:\n",
        "        res1.append(n.feed(x))\n",
        "      res2 = []\n",
        "      for n in self.NeuronsL2:\n",
        "        res2.append(n.feed(res1))\n",
        "      y_pred.append(self.NeuronsL3.feed(res2))\n",
        "    return y_pred\n",
        "\n",
        "  def trainGrad(self, data, y_trues, speed, epochs):\n",
        "    errs = []\n",
        "    epchs = []\n",
        "    for epoch in range(epochs):\n",
        "      for x, y_true in zip(data, y_trues):\n",
        "        self.grad_iteration(x, y_true, speed)\n",
        "      if epoch % (epochs // 10) == 0:\n",
        "        y_preds = self.predict(data)\n",
        "        err = err_los(y_trues, y_preds)\n",
        "        acc = err_acc(y_trues, y_preds, 0.1)\n",
        "        epchs.append(epoch)\n",
        "        errs.append(err)\n",
        "        print(\"Epoch %d err: %.3f\" % (epoch, err))\n",
        "        print(\"Epoch %d acc: %.3f\" % (epoch, acc))\n",
        "    return epchs, errs\n",
        "\n",
        "  def trainGradStochastic(self, data, y_trues, speed, epochs):\n",
        "    errs = []\n",
        "    epchs = []\n",
        "    for epoch in range(epochs):\n",
        "      n_rule = np.random.randint(0, len(data))\n",
        "      x = data[n_rule]\n",
        "      y_true = y_trues[n_rule]\n",
        "      self.grad_iteration(x, y_true, speed)\n",
        "      if epoch % (epochs // 10) == 0:\n",
        "        y_preds = self.predict(data)\n",
        "        err = err_los(y_trues, y_preds)\n",
        "        epchs.append(epoch)\n",
        "        errs.append(err)\n",
        "        acc = err_acc(y_trues, y_preds, 0.1)\n",
        "        print(\"Epoch %d err: %.3f\" % (epoch, err))\n",
        "        print(\"Epoch %d acc: %.3f\" % (epoch, acc))\n",
        "    return epchs, errs\n",
        "\n",
        "  def grad_iteration(self, x, y_true, speed):\n",
        "    res1 = []\n",
        "    for n in self.NeuronsL1:\n",
        "      res1.append(n.feed(x))\n",
        "    res2 = []\n",
        "    for n in self.NeuronsL2:\n",
        "      res2.append(n.feed(res1))\n",
        "    out1 = self.NeuronsL3.feed(res2)\n",
        "    # Изменение весов на выходном слое\n",
        "    delta = out1 - y_true\n",
        "    grad = delta * fun_der_sigm(out1)\n",
        "    for i in range(len(res2)):\n",
        "      self.NeuronsL3.weights[i] = self.NeuronsL3.weights[i] - speed * grad * res2[i]\n",
        "    self.NeuronsL3.bias = self.NeuronsL3.bias - speed * grad * 1\n",
        "    # Изменение весов на втором слое \n",
        "    grad2 = []\n",
        "    for i in range(len(res2)):\n",
        "      grad2.append(grad * self.NeuronsL3.weights[i] * fun_der_sigm(res2[i]))\n",
        "    grad2_bias = grad * self.NeuronsL3.bias * fun_der_sigm(res2[i])\n",
        "    for i in range(len(self.NeuronsL2)):\n",
        "      for j in range(len(res1)):\n",
        "        self.NeuronsL2[i].weights[j] = self.NeuronsL2[i].weights[j] - speed * grad2[i] * res1[j]\n",
        "      self.NeuronsL2[i].bias = self.NeuronsL2[i].bias - speed * grad2_bias * 1\n",
        "    # Изменение весов на первом слое\n",
        "    grad3 = []\n",
        "    for i in range(len(res1)):\n",
        "      grad_sum = 0\n",
        "      for j in range(len(self.NeuronsL2)):\n",
        "        grad_sum += grad2[j] * self.NeuronsL2[j].weights[i] * fun_der_sigm(res1[i])\n",
        "      grad3.append(grad_sum)\n",
        "    grad3_bias = 0\n",
        "    for j in range(len(self.NeuronsL2)):\n",
        "      grad3_bias += grad2[j] * self.NeuronsL2[j].bias * fun_der_sigm(1)\n",
        "    for i in range(len(self.NeuronsL1)):\n",
        "      for j in range(len(x)):\n",
        "        self.NeuronsL1[i].weights[j] = self.NeuronsL1[i].weights[j] - speed * grad3[i] * x[j]\n",
        "      self.NeuronsL1[i].bias = self.NeuronsL1[i].bias - speed * grad3_bias * 1"
      ],
      "metadata": {
        "id": "kk_1kflq3Ntt"
      },
      "execution_count": null,
      "outputs": []
    },
    {
      "cell_type": "code",
      "source": [
        "network = Network(36)\n",
        "\n",
        "epochs, errors = network.trainGrad(x_train, y_train,0.5, 150)"
      ],
      "metadata": {
        "colab": {
          "base_uri": "https://localhost:8080/"
        },
        "id": "GztdPmxm4NMt",
        "outputId": "495baba2-a7fc-4cd2-8299-2c19816aaead"
      },
      "execution_count": null,
      "outputs": [
        {
          "output_type": "stream",
          "name": "stdout",
          "text": [
            "Epoch 0 err: 0.148\n",
            "Epoch 0 acc: 0.500\n",
            "Epoch 15 err: 0.045\n",
            "Epoch 15 acc: 0.700\n",
            "Epoch 30 err: 0.026\n",
            "Epoch 30 acc: 0.800\n",
            "Epoch 45 err: 0.014\n",
            "Epoch 45 acc: 0.950\n",
            "Epoch 60 err: 0.004\n",
            "Epoch 60 acc: 1.000\n",
            "Epoch 75 err: 0.003\n",
            "Epoch 75 acc: 1.000\n",
            "Epoch 90 err: 0.003\n",
            "Epoch 90 acc: 1.000\n",
            "Epoch 105 err: 0.002\n",
            "Epoch 105 acc: 1.000\n",
            "Epoch 120 err: 0.002\n",
            "Epoch 120 acc: 1.000\n",
            "Epoch 135 err: 0.002\n",
            "Epoch 135 acc: 1.000\n"
          ]
        }
      ]
    },
    {
      "cell_type": "code",
      "source": [
        "plt.plot(epochs, errors)\n",
        "plt.show()"
      ],
      "metadata": {
        "colab": {
          "base_uri": "https://localhost:8080/",
          "height": 265
        },
        "id": "fPefrmcjbLY_",
        "outputId": "ac1a5391-a310-4cda-e3c2-f3ee5b7235c7"
      },
      "execution_count": null,
      "outputs": [
        {
          "output_type": "display_data",
          "data": {
            "text/plain": [
              "<Figure size 432x288 with 1 Axes>"
            ],
            "image/png": "[encoded data removed]"
          },
          "metadata": {
            "needs_background": "light"
          }
        }
      ]
    },
    {
      "cell_type": "code",
      "source": [
        "x_test_big = []\n",
        "x_test = []\n",
        "y_test = []\n",
        "path = '/content/drive/My Drive/LABS_NN/LAB2_NN/TestSmile/3_'\n",
        "for i in range(1,6,1):\n",
        "  x_test.append(get_img(path + str(i) +'.jpg')[0])\n",
        "  y_test.append(1)"
      ],
      "metadata": {
        "colab": {
          "base_uri": "https://localhost:8080/",
          "height": 86
        },
        "id": "xtYb8zb93OMl",
        "outputId": "1ef244de-16ad-44ce-d155-44f391bf3fdc"
      },
      "execution_count": null,
      "outputs": [
        {
          "output_type": "display_data",
          "data": {
            "text/plain": [
              "<Figure size 432x288 with 5 Axes>"
            ],
            "image/png": "[encoded data removed]"
          },
          "metadata": {
            "needs_background": "light"
          }
        }
      ]
    },
    {
      "cell_type": "code",
      "source": [
        "path = '/content/drive/My Drive/LABS_NN/LAB2_NN/TestSad/4_'\n",
        "for i in range(1,6,1):\n",
        "  x_test.append(get_img(path + str(i) +'.jpg')[0])\n",
        "  y_test.append(0)"
      ],
      "metadata": {
        "colab": {
          "base_uri": "https://localhost:8080/",
          "height": 86
        },
        "id": "OVR7z8DM3UM9",
        "outputId": "cd62cd47-0ddd-43cb-cac5-4a5d40ee738a"
      },
      "execution_count": null,
      "outputs": [
        {
          "output_type": "display_data",
          "data": {
            "text/plain": [
              "<Figure size 432x288 with 5 Axes>"
            ],
            "image/png": "[encoded data removed]"
          },
          "metadata": {
            "needs_background": "light"
          }
        }
      ]
    },
    {
      "cell_type": "code",
      "source": [
        "def get_res(y):\n",
        "  if y > 0.5:\n",
        "    return 1\n",
        "  return 0"
      ],
      "metadata": {
        "id": "IM8eiYPP_z49"
      },
      "execution_count": null,
      "outputs": []
    },
    {
      "cell_type": "code",
      "source": [
        "y_pred = network.predict(x_test)\n",
        "y_pred_binary = []\n",
        "for i in range(len(y_pred)):\n",
        "  y_pred_binary.append(get_res(y_pred[i])) \n",
        "acc = err_acc(y_test, y_pred_binary, 0.1)\n",
        "print(\"acc:\" + str(acc))\n",
        "ress = ['Грустный', 'Веселый']\n",
        "plt.figure(figsize=(15,5))\n",
        "for i in range(10):\n",
        "  plt.subplot(1, 10, i + 1)\n",
        "  plt.title(ress[get_res(y_pred[i])])\n",
        "  img = np.reshape((x_test[i]), [6, 6])\n",
        "  plt.imshow(img, cmap=\"gray\")"
      ],
      "metadata": {
        "colab": {
          "base_uri": "https://localhost:8080/",
          "height": 152
        },
        "id": "TYNFbDAx3VfV",
        "outputId": "6e2c2ab0-68ca-4836-d7db-bf5c57ad32fb"
      },
      "execution_count": null,
      "outputs": [
        {
          "output_type": "stream",
          "name": "stdout",
          "text": [
            "acc:0.9\n"
          ]
        },
        {
          "output_type": "display_data",
          "data": {
            "text/plain": [
              "<Figure size 1080x360 with 10 Axes>"
            ],
            "image/png": "[encoded data removed]"
          },
          "metadata": {
            "needs_background": "light"
          }
        }
      ]
    },
    {
      "cell_type": "code",
      "source": [
        "print(y_pred)\n",
        "print(y_pred_binary)"
      ],
      "metadata": {
        "colab": {
          "base_uri": "https://localhost:8080/"
        },
        "id": "Ib-pr3EYHms2",
        "outputId": "79233456-976c-4ff9-e5e7-936672b67ec0"
      },
      "execution_count": null,
      "outputs": [
        {
          "output_type": "stream",
          "name": "stdout",
          "text": [
            "[0.9996774566014563, 0.9999643905351312, 0.9997503118965715, 0.9999843548932731, 0.9999823287438238, 0.00010288152320666005, 0.0001640804253531456, 0.1565997302010015, 9.890517601680571e-05, 0.8200697414958166]\n",
            "[1, 1, 1, 1, 1, 0, 0, 0, 0, 1]\n"
          ]
        }
      ]
    }
  ]
}
