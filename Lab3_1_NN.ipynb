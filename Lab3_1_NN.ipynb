{
  "nbformat": 4,
  "nbformat_minor": 0,
  "metadata": {
    "colab": {
      "provenance": []
    },
    "kernelspec": {
      "name": "python3",
      "display_name": "Python 3"
    },
    "language_info": {
      "name": "python"
    }
  },
  "cells": [
    {
      "cell_type": "code",
      "source": [
        "import numpy as np\n",
        "import matplotlib.pyplot as plt\n",
        "from sklearn.decomposition import PCA\n",
        "from PIL import Image\n",
        "from sklearn.metrics import accuracy_score\n",
        "from sklearn.model_selection import train_test_split, GridSearchCV\n",
        "from sklearn import preprocessing\n",
        "import random"
      ],
      "metadata": {
        "id": "3N683j06RxDZ"
      },
      "execution_count": null,
      "outputs": []
    },
    {
      "cell_type": "code",
      "source": [
        "from google.colab import drive\n",
        "drive.mount('/content/drive')"
      ],
      "metadata": {
        "colab": {
          "base_uri": "https://localhost:8080/"
        },
        "id": "8IxckfEnR5Pn",
        "outputId": "77ea395f-0c97-4f2c-97f1-4a0505546b2c"
      },
      "execution_count": null,
      "outputs": [
        {
          "output_type": "stream",
          "name": "stdout",
          "text": [
            "Drive already mounted at /content/drive; to attempt to forcibly remount, call drive.mount(\"/content/drive\", force_remount=True).\n"
          ]
        }
      ]
    },
    {
      "cell_type": "code",
      "source": [
        "plt.figure(figsize=(10,10))\n",
        "\n",
        "def get_img(path):\n",
        "  test_img = Image.open(path)\n",
        "  plt.subplot(5,5,i)\n",
        "  plt.imshow(test_img, cmap = \"gray\")\n",
        "  test_img = test_img.convert('1')\n",
        "  test_x = np.array(test_img, np.float32)\n",
        "  test_x = test_x.reshape([-1, 36])\n",
        "  return test_x\n",
        "  "
      ],
      "metadata": {
        "colab": {
          "base_uri": "https://localhost:8080/",
          "height": 34
        },
        "id": "NkAyNz36SC8K",
        "outputId": "55c1f2d9-d4b4-46dd-d111-c06aadc47d56"
      },
      "execution_count": null,
      "outputs": [
        {
          "output_type": "display_data",
          "data": {
            "text/plain": [
              "<Figure size 720x720 with 0 Axes>"
            ]
          },
          "metadata": {}
        }
      ]
    },
    {
      "cell_type": "code",
      "source": [
        "x_train = []\n",
        "y_train = []\n",
        "  \n",
        "path = '/content/drive/My Drive/LABS_NN/LAB2_NN/Smile/1_'\n",
        "for i in range(1,11,1):\n",
        "  x_train.append(get_img(path + str(i) +'.jpg')[0])\n",
        "  y_train.append(1)"
      ],
      "metadata": {
        "colab": {
          "base_uri": "https://localhost:8080/",
          "height": 131
        },
        "id": "RwkZdSWpSFMg",
        "outputId": "91f1fe3d-a8ff-4b64-fdbb-1b1d00e4f450"
      },
      "execution_count": null,
      "outputs": [
        {
          "output_type": "display_data",
          "data": {
            "text/plain": [
              "<Figure size 432x288 with 10 Axes>"
            ],
            "image/png": "[encoded data removed]"
          },
          "metadata": {
            "needs_background": "light"
          }
        }
      ]
    },
    {
      "cell_type": "code",
      "source": [
        "path = '/content/drive/My Drive/LABS_NN/LAB2_NN/Sad/2.'\n",
        "for i in range(1,11,1):\n",
        "  x_train.append(get_img(path + str(i) +'.jpg')[0])\n",
        "  y_train.append(-1)"
      ],
      "metadata": {
        "id": "cGSmR-_XSGe_",
        "colab": {
          "base_uri": "https://localhost:8080/",
          "height": 131
        },
        "outputId": "6d908d5a-30c8-4b0e-abb3-e5f32de69752"
      },
      "execution_count": null,
      "outputs": [
        {
          "output_type": "display_data",
          "data": {
            "text/plain": [
              "<Figure size 432x288 with 10 Axes>"
            ],
            "image/png": "[encoded data removed]"
          },
          "metadata": {
            "needs_background": "light"
          }
        }
      ]
    },
    {
      "cell_type": "code",
      "source": [
        "print(x_train[0])"
      ],
      "metadata": {
        "id": "L6HoPxB-SIMR",
        "colab": {
          "base_uri": "https://localhost:8080/"
        },
        "outputId": "6f2b769f-9908-4973-aa4b-02cd9018c59d"
      },
      "execution_count": null,
      "outputs": [
        {
          "output_type": "stream",
          "name": "stdout",
          "text": [
            "[1. 1. 1. 1. 1. 1. 1. 0. 1. 0. 0. 1. 1. 1. 1. 1. 1. 1. 0. 0. 1. 1. 0. 0.\n",
            " 1. 0. 0. 0. 0. 1. 1. 1. 1. 1. 1. 1.]\n"
          ]
        }
      ]
    },
    {
      "cell_type": "code",
      "source": [
        "x_test_big = []\n",
        "x_test = []\n",
        "y_test = []\n",
        "path = '/content/drive/My Drive/LABS_NN/LAB2_NN/TestSad/4_'\n",
        "for i in range(1,6,1):\n",
        "  x_test.append(get_img(path + str(i) +'.jpg')[0])\n",
        "  y_test.append(-1)"
      ],
      "metadata": {
        "id": "BIbmJdOsSJbw",
        "colab": {
          "base_uri": "https://localhost:8080/",
          "height": 86
        },
        "outputId": "ff642deb-72a1-4271-a3cf-9be789c5d6d3"
      },
      "execution_count": null,
      "outputs": [
        {
          "output_type": "display_data",
          "data": {
            "text/plain": [
              "<Figure size 432x288 with 5 Axes>"
            ],
            "image/png": "[encoded data removed]"
          },
          "metadata": {
            "needs_background": "light"
          }
        }
      ]
    },
    {
      "cell_type": "code",
      "source": [
        "\n",
        "path = '/content/drive/My Drive/LABS_NN/LAB2_NN/TestSmile/3_'\n",
        "for i in range(1,6,1):\n",
        "  x_test.append(get_img(path + str(i) +'.jpg')[0])\n",
        "  y_test.append(1)"
      ],
      "metadata": {
        "id": "e2d2hQFhSJvg",
        "colab": {
          "base_uri": "https://localhost:8080/",
          "height": 86
        },
        "outputId": "1eb2c53f-7045-44cf-a928-fec27b9f7b58"
      },
      "execution_count": null,
      "outputs": [
        {
          "output_type": "display_data",
          "data": {
            "text/plain": [
              "<Figure size 432x288 with 5 Axes>"
            ],
            "image/png": "[encoded data removed]"
          },
          "metadata": {
            "needs_background": "light"
          }
        }
      ]
    },
    {
      "cell_type": "code",
      "execution_count": null,
      "metadata": {
        "id": "IAfHxXeNRsGJ"
      },
      "outputs": [],
      "source": [
        "def add_bias_feature(a):\n",
        "    a_extended = np.zeros((a.shape[0],a.shape[1]+1))\n",
        "    a_extended[:,:-1] = a\n",
        "    a_extended[:,-1] = int(1)  \n",
        "    return a_extended\n",
        "\n",
        "def linear_func(w, x):\n",
        "  return np.dot(w, x)\n",
        "\n",
        "def polinom_func(w, x):\n",
        "  return np.dot(w, x) ** 2\n",
        "\n",
        "def polinomh_func(w, x):\n",
        "  return (np.dot(w, x) + 1) ** 2\n",
        "\n",
        "class MySVM():\n",
        "    def __init__(self, etha=0.01, alpha=0.1, epochs=100, kernel = \"linear\"):\n",
        "        self._epochs = epochs\n",
        "        self._etha = etha\n",
        "        self._alpha = alpha\n",
        "        self._w = None\n",
        "        self.history_w = []\n",
        "        self.train_errors = None\n",
        "        self.train_loss = None\n",
        "        self.kernel = kernel\n",
        "        self.kernel_funcs = {\n",
        "            'linear': linear_func,\n",
        "            'polinom': polinom_func,\n",
        "            'polinomh' : polinomh_func\n",
        "        }\n",
        "\n",
        "    def fit(self, X_train, Y_train):\n",
        "        X_train = add_bias_feature(X_train)\n",
        "        self._w = np.random.normal(loc=0, scale=0.05, size=X_train.shape[1])\n",
        "        self.history_w.append(self._w)\n",
        "        train_errors = []\n",
        "        train_loss_epoch = []\n",
        "\n",
        "        for epoch in range(self._epochs): \n",
        "            tr_err = 0\n",
        "            tr_loss = 0\n",
        "            for i,x in enumerate(X_train):\n",
        "                margin = Y_train[i]*np.dot(self._w,X_train[i])\n",
        "                if margin >= 1:\n",
        "                    self._w = self._w - self._etha*self._alpha*self._w/self._epochs\n",
        "                    tr_loss += self.soft_margin_loss(X_train[i],Y_train[i])\n",
        "                else:\n",
        "                    self._w = self._w +\\\n",
        "                    self._etha*(Y_train[i]*X_train[i] - self._alpha*self._w/self._epochs)\n",
        "                    tr_err += 1\n",
        "                    tr_loss += self.soft_margin_loss(X_train[i],Y_train[i])\n",
        "                self.history_w.append(self._w)\n",
        "            train_errors.append(tr_err)\n",
        "            train_loss_epoch.append(tr_loss)\n",
        "        self.history_w = np.array(self.history_w)    \n",
        "        self.train_errors = np.array(train_errors)\n",
        "        self.train_loss = np.array(train_loss_epoch) \n",
        "\n",
        "    def predict(self, X:np.array) -> np.array:\n",
        "        y_pred = []\n",
        "        X_extended = add_bias_feature(X)\n",
        "        for i in range(len(X_extended)):\n",
        "            y_pred.append(np.sign(self.kernel_funcs[self.kernel](self._w,X_extended[i])))\n",
        "        return np.array(y_pred)         \n",
        "\n",
        "    def hinge_loss(self, x, y):\n",
        "        return max(0,1 - y*self.kernel_funcs[self.kernel](x, self._w))\n",
        "\n",
        "    def soft_margin_loss(self, x, y):\n",
        "        return self.hinge_loss(x, y) + self._alpha*np.dot(self._w, self._w)"
      ]
    },
    {
      "cell_type": "code",
      "source": [
        "# блок инициализиции и обучения\n",
        "kernels = ['linear','polinom','polinomh']\n",
        "for k in kernels:\n",
        "  svm = MySVM(etha=0.0001, alpha=0.0001, epochs=1000, kernel = k)\n",
        "  svm.fit(np.array(x_train), np.array(y_train))\n",
        "  plt.plot(svm.train_errors, linewidth=2, label = k)\n",
        "plt.grid()\n",
        "plt.legend(prop={'size': 15})\n",
        "plt.show()"
      ],
      "metadata": {
        "id": "B15YNYMGZvnL",
        "colab": {
          "base_uri": "https://localhost:8080/",
          "height": 265
        },
        "outputId": "170fccfd-4227-4c43-85fa-c99a39ecad8c"
      },
      "execution_count": null,
      "outputs": [
        {
          "output_type": "display_data",
          "data": {
            "text/plain": [
              "<Figure size 432x288 with 1 Axes>"
            ],
            "image/png": "[encoded data removed]"
          },
          "metadata": {
            "needs_background": "light"
          }
        }
      ]
    },
    {
      "cell_type": "code",
      "source": [
        "svm = MySVM(etha=0.0001, alpha=0.0001, epochs=1000, kernel = 'linear')\n",
        "svm.fit(np.array(x_train), np.array(y_train))\n",
        "y_pred = svm.predict(np.array(x_test))\n",
        "print(y_pred)"
      ],
      "metadata": {
        "id": "vGH-_3ODaAJM",
        "colab": {
          "base_uri": "https://localhost:8080/"
        },
        "outputId": "82c103f3-f712-461e-fb87-4bfbfcd06244"
      },
      "execution_count": null,
      "outputs": [
        {
          "output_type": "stream",
          "name": "stdout",
          "text": [
            "[-1. -1. -1. -1. -1.  1.  1.  1.  1.  1.]\n"
          ]
        }
      ]
    },
    {
      "cell_type": "code",
      "source": [
        "def minus_to_zero(x):\n",
        "  if x == -1:\n",
        "    return 0\n",
        "  return 1"
      ],
      "metadata": {
        "id": "-MC5aA2OaPhc"
      },
      "execution_count": null,
      "outputs": []
    },
    {
      "cell_type": "code",
      "source": [
        "acc = accuracy_score(y_test, y_pred)\n",
        "print(\"acc:\" + str(acc))\n",
        "ress = ['Грустный', 'Веселый']\n",
        "plt.figure(figsize=(15,5))\n",
        "for i in range(10):\n",
        "  plt.subplot(1, 10, i + 1)\n",
        "  plt.title(ress[minus_to_zero(y_pred[i])])\n",
        "  img = np.reshape((x_test[i]), [6, 6])\n",
        "  plt.imshow(img, cmap=\"gray\")"
      ],
      "metadata": {
        "id": "SRk0-7zEaetD",
        "colab": {
          "base_uri": "https://localhost:8080/",
          "height": 152
        },
        "outputId": "5159f660-ee3c-4f1e-874e-55d43889ba39"
      },
      "execution_count": null,
      "outputs": [
        {
          "output_type": "stream",
          "name": "stdout",
          "text": [
            "acc:1.0\n"
          ]
        },
        {
          "output_type": "display_data",
          "data": {
            "text/plain": [
              "<Figure size 1080x360 with 10 Axes>"
            ],
            "image/png": "[encoded data removed]"
          },
          "metadata": {
            "needs_background": "light"
          }
        }
      ]
    }
  ]
}