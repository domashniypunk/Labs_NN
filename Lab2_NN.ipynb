{
  "nbformat": 4,
  "nbformat_minor": 0,
  "metadata": {
    "colab": {
      "provenance": [],
      "collapsed_sections": []
    },
    "kernelspec": {
      "name": "python3",
      "display_name": "Python 3"
    },
    "language_info": {
      "name": "python"
    }
  },
  "cells": [
    {
      "cell_type": "code",
      "execution_count": 90,
      "metadata": {
        "id": "dkBdlbJxuIi8"
      },
      "outputs": [],
      "source": [
        "import numpy as np\n",
        "import random\n",
        "import matplotlib.pyplot as plt\n",
        "from sklearn.metrics import accuracy_score\n",
        "from PIL import Image"
      ]
    },
    {
      "cell_type": "code",
      "source": [
        "from google.colab import drive\n",
        "drive.mount('/content/drive')"
      ],
      "metadata": {
        "colab": {
          "base_uri": "https://localhost:8080/"
        },
        "id": "oenOHLwduV2i",
        "outputId": "234ce701-701b-4f33-d82e-3d680a4250cd"
      },
      "execution_count": 91,
      "outputs": [
        {
          "output_type": "stream",
          "name": "stdout",
          "text": [
            "Drive already mounted at /content/drive; to attempt to forcibly remount, call drive.mount(\"/content/drive\", force_remount=True).\n"
          ]
        }
      ]
    },
    {
      "cell_type": "code",
      "source": [
        "plt.figure(figsize=(10,10))\n",
        "\n",
        "def get_img(path):\n",
        "  test_img = Image.open(path)\n",
        "  plt.subplot(5,5,i)\n",
        "  plt.imshow(test_img, cmap = \"gray\")\n",
        "  test_img = test_img.convert('1')\n",
        "  test_x = np.array(test_img, np.float32)\n",
        "  test_x = test_x.reshape([-1, 36])\n",
        "  return test_x"
      ],
      "metadata": {
        "colab": {
          "base_uri": "https://localhost:8080/",
          "height": 34
        },
        "id": "UaJRi2rWuiNT",
        "outputId": "2a15290e-48ab-4b14-96e6-efbde123fe1a"
      },
      "execution_count": 92,
      "outputs": [
        {
          "output_type": "display_data",
          "data": {
            "text/plain": [
              "<Figure size 720x720 with 0 Axes>"
            ]
          },
          "metadata": {}
        }
      ]
    },
    {
      "cell_type": "code",
      "source": [
        "x_train = []\n",
        "y_train = []\n",
        "  \n",
        "path = '/content/drive/My Drive/LABS_NN/LAB2_NN/Smile/1_'\n",
        "for i in range(1,11,1):\n",
        "  x_train.append(get_img(path + str(i) +'.jpg')[0])\n",
        "  y_train.append(1)"
      ],
      "metadata": {
        "colab": {
          "base_uri": "https://localhost:8080/",
          "height": 131
        },
        "id": "FT8FqRmPuxCa",
        "outputId": "43bf1a88-3ed8-4eff-942a-b0d982d975ef"
      },
      "execution_count": 93,
      "outputs": [
        {
          "output_type": "display_data",
          "data": {
            "text/plain": [
              "<Figure size 432x288 with 10 Axes>"
            ],
            "image/png": "[encoded data removed]"
          },
          "metadata": {
            "needs_background": "light"
          }
        }
      ]
    },
    {
      "cell_type": "code",
      "source": [
        "path = '/content/drive/My Drive/LABS_NN/LAB2_NN/Sad/2.'\n",
        "for i in range(1,11,1):\n",
        "  x_train.append(get_img(path + str(i) +'.jpg')[0])\n",
        "  y_train.append(0)"
      ],
      "metadata": {
        "colab": {
          "base_uri": "https://localhost:8080/",
          "height": 131
        },
        "id": "6OoPeS4MYFb8",
        "outputId": "9702217f-a760-4cf6-ac22-4cea01cbc4fa"
      },
      "execution_count": 94,
      "outputs": [
        {
          "output_type": "display_data",
          "data": {
            "text/plain": [
              "<Figure size 432x288 with 10 Axes>"
            ],
            "image/png": "[encoded data removed]"
          },
          "metadata": {
            "needs_background": "light"
          }
        }
      ]
    },
    {
      "cell_type": "code",
      "source": [
        "print(x_train[0])"
      ],
      "metadata": {
        "colab": {
          "base_uri": "https://localhost:8080/"
        },
        "id": "26CglKswu4uS",
        "outputId": "515d17fc-8476-448b-e2a8-720af1017c00"
      },
      "execution_count": 95,
      "outputs": [
        {
          "output_type": "stream",
          "name": "stdout",
          "text": [
            "[1. 1. 1. 1. 1. 1. 1. 0. 1. 0. 0. 1. 1. 1. 1. 1. 1. 1. 0. 0. 1. 1. 0. 0.\n",
            " 1. 0. 0. 0. 0. 1. 1. 1. 1. 1. 1. 1.]\n"
          ]
        }
      ]
    },
    {
      "cell_type": "code",
      "source": [
        "def err_los(pred_y, tst_y):\n",
        "  loss = 0\n",
        "  for i in range(len(tst_y)):\n",
        "    loss += np.square(pred_y[i] - tst_y[i])\n",
        "  loss = np.sqrt(loss) / len(tst_y)\n",
        "  return loss\n"
      ],
      "metadata": {
        "id": "XulQ9uFDer_R"
      },
      "execution_count": 96,
      "outputs": []
    },
    {
      "cell_type": "code",
      "source": [
        "def step_func(x):\n",
        "  if(x > 0):\n",
        "    return 1\n",
        "  else:\n",
        "    return 0\n",
        "\n",
        "class Neuron:\n",
        "  def __init__(self, weightsCount, number = None):\n",
        "    if number is None: \n",
        "      self.weights = []\n",
        "      for i in range(weightsCount):\n",
        "        self.weights.append(random.randint(-3, 3))\n",
        "      self.bias = random.randint(-3, 3)\n",
        "    else:\n",
        "      self.weights = [] \n",
        "      for i in range(weightsCount):\n",
        "        self.weights.append(number)\n",
        "      self.bias = number\n",
        "\n",
        "  def get_sum(self, x):\n",
        "    sum = self.bias\n",
        "    for i in range(len(self.weights)):\n",
        "      sum += self.weights[i] * x[i]\n",
        "    return sum\n",
        "\n",
        "  def feed(self, x):\n",
        "    y = step_func(self.get_sum(x))\n",
        "    return y\n",
        "\n",
        "  def print_params(self):\n",
        "    n_str = ''\n",
        "    for i in range(len(self.weights)):\n",
        "      n_str += str(self.weights[i]) + \" \"\n",
        "    print(n_str + str(self.bias))\n",
        "\n",
        "  def change_weights(self, value, x):\n",
        "    for i in range(len(self.weights)):\n",
        "      if(x[i] == 1):\n",
        "        self.weights[i] += value\n",
        "    self.bias += value\n",
        "\n",
        "class Network:\n",
        "  def __init__(self, x_count):\n",
        "    self.NeuronsL1 = []\n",
        "    self.NeuronsL2 = []\n",
        "    self.NeuronsL3 = Neuron(12)\n",
        "    for i in range(25):\n",
        "      n = Neuron(x_count)\n",
        "      self.NeuronsL1.append(n)\n",
        "    for i in range(12):\n",
        "      n = Neuron(25)\n",
        "      self.NeuronsL2.append(n)\n",
        "\n",
        "  def predict(self, data):\n",
        "    y_pred = []\n",
        "    for x in data:\n",
        "      res1 = []\n",
        "      for n in self.NeuronsL1:\n",
        "        res1.append(n.feed(x))\n",
        "      res2 = []\n",
        "      for n in self.NeuronsL2:\n",
        "        res2.append(n.feed(res1))\n",
        "      y_pred.append(self.NeuronsL3.feed(res2))\n",
        "    return y_pred\n",
        "\n",
        "  def trainHebb(self, data, y_trues, epochs):\n",
        "    accs = []\n",
        "    errs = []\n",
        "    epoch_arr = []\n",
        "    for epoch in range(epochs):\n",
        "      for x, y_true in zip(data, y_trues):\n",
        "        res1 = []\n",
        "        for n in self.NeuronsL1:\n",
        "          res1.append(n.feed(x))\n",
        "        res2 = []\n",
        "        for n in self.NeuronsL2:\n",
        "          res2.append(n.feed(res1))\n",
        "        out1 = self.NeuronsL3.feed(res2)\n",
        "        value = 0.1\n",
        "        if(out1 > y_true):\n",
        "          for n in self.NeuronsL1:\n",
        "            n.change_weights(-value, x)\n",
        "          for n in self.NeuronsL2:\n",
        "            n.change_weights(-value, res1)\n",
        "          self.NeuronsL3.change_weights(-value, res2)\n",
        "        elif(out1 < y_true):\n",
        "          for n in self.NeuronsL1:\n",
        "            n.change_weights(value, x)\n",
        "          for n in self.NeuronsL2:\n",
        "            n.change_weights(value, res1)\n",
        "          self.NeuronsL3.change_weights(value, res2)\n",
        "      y_preds = self.predict(data)\n",
        "      acc = accuracy_score(y_trues, y_preds)\n",
        "      err = err_los(y_trues, y_preds)\n",
        "      errs.append(err)\n",
        "      accs.append(acc)\n",
        "      epoch_arr.append(epoch)\n",
        "      if epoch % 2 == 1 or acc > 0.98:\n",
        "        print(\"Epoch %d acc: %.3f\" % (epoch, acc))\n",
        "        print(\"Epoch %d err: %.3f\" % (epoch, err))\n",
        "      if acc > 0.98:\n",
        "        break\n",
        "    return epoch_arr, errs"
      ],
      "metadata": {
        "id": "qG9LL5wGxZcZ"
      },
      "execution_count": 97,
      "outputs": []
    },
    {
      "cell_type": "code",
      "source": [
        "network = Network(36)\n",
        "\n",
        "epochs, errors = network.trainHebb(x_train, y_train, 100)"
      ],
      "metadata": {
        "colab": {
          "base_uri": "https://localhost:8080/"
        },
        "id": "aMSB-QAksb9O",
        "outputId": "50bb07f7-3247-4572-dca2-d2235103ff23"
      },
      "execution_count": 98,
      "outputs": [
        {
          "output_type": "stream",
          "name": "stdout",
          "text": [
            "Epoch 1 acc: 0.500\n",
            "Epoch 1 err: 0.158\n",
            "Epoch 3 acc: 0.500\n",
            "Epoch 3 err: 0.158\n",
            "Epoch 5 acc: 0.450\n",
            "Epoch 5 err: 0.166\n",
            "Epoch 7 acc: 0.500\n",
            "Epoch 7 err: 0.158\n",
            "Epoch 9 acc: 0.650\n",
            "Epoch 9 err: 0.132\n",
            "Epoch 11 acc: 0.950\n",
            "Epoch 11 err: 0.050\n",
            "Epoch 12 acc: 1.000\n",
            "Epoch 12 err: 0.000\n"
          ]
        }
      ]
    },
    {
      "cell_type": "code",
      "source": [
        "\n",
        "x_test = []\n",
        "y_test = []\n",
        "path = '/content/drive/My Drive/LABS_NN/LAB2_NN/TestSad/4_'\n",
        "for i in range(1,6,1):\n",
        "  x_test.append(get_img(path + str(i) +'.jpg')[0])\n",
        "  y_test.append(0)"
      ],
      "metadata": {
        "colab": {
          "base_uri": "https://localhost:8080/",
          "height": 86
        },
        "id": "dVRKPUTWJ1HC",
        "outputId": "541e4ab2-5760-434d-da21-744d1d47b8fc"
      },
      "execution_count": 99,
      "outputs": [
        {
          "output_type": "display_data",
          "data": {
            "text/plain": [
              "<Figure size 432x288 with 5 Axes>"
            ],
            "image/png": "[encoded data removed]"
          },
          "metadata": {
            "needs_background": "light"
          }
        }
      ]
    },
    {
      "cell_type": "code",
      "source": [
        "path = '/content/drive/My Drive/LABS_NN/LAB2_NN/TestSmile/3_'\n",
        "for i in range(1,6,1):\n",
        "  x_test.append(get_img(path + str(i) +'.jpg')[0])\n",
        "  y_test.append(1)"
      ],
      "metadata": {
        "colab": {
          "base_uri": "https://localhost:8080/",
          "height": 86
        },
        "id": "uG8gJxITZWPj",
        "outputId": "38d0d9c6-24e6-451b-d004-33ce761a6fc1"
      },
      "execution_count": 100,
      "outputs": [
        {
          "output_type": "display_data",
          "data": {
            "text/plain": [
              "<Figure size 432x288 with 5 Axes>"
            ],
            "image/png": "[encoded data removed]"
          },
          "metadata": {
            "needs_background": "light"
          }
        }
      ]
    },
    {
      "cell_type": "code",
      "source": [
        "y_pred = network.predict(x_test)\n",
        "acc = accuracy_score(y_test, y_pred)\n",
        "print(\"acc:\" + str(acc))\n",
        "ress = ['Грустный', 'Веселый']\n",
        "plt.figure(figsize=(15,5))\n",
        "for i in range(10):\n",
        "  plt.subplot(1, 10, i + 1)\n",
        "  plt.title(ress[y_pred[i]])\n",
        "  img = np.reshape((x_test[i]), [6, 6])\n",
        "  plt.imshow(img, cmap=\"gray\")"
      ],
      "metadata": {
        "colab": {
          "base_uri": "https://localhost:8080/",
          "height": 152
        },
        "id": "Fo2vyLmDBreQ",
        "outputId": "51febc06-fb2c-4631-db14-9385257900b6"
      },
      "execution_count": 101,
      "outputs": [
        {
          "output_type": "stream",
          "name": "stdout",
          "text": [
            "acc:0.9\n"
          ]
        },
        {
          "output_type": "display_data",
          "data": {
            "text/plain": [
              "<Figure size 1080x360 with 10 Axes>"
            ],
            "image/png": "[encoded data removed]"
          },
          "metadata": {
            "needs_background": "light"
          }
        }
      ]
    },
    {
      "cell_type": "code",
      "source": [
        "plt.plot(epochs, errors)\n",
        "plt.show()"
      ],
      "metadata": {
        "colab": {
          "base_uri": "https://localhost:8080/",
          "height": 265
        },
        "id": "PIys5YgD_-JY",
        "outputId": "cd5e7b5a-a167-4ba2-9d5e-067dae1ff0dc"
      },
      "execution_count": 102,
      "outputs": [
        {
          "output_type": "display_data",
          "data": {
            "text/plain": [
              "<Figure size 432x288 with 1 Axes>"
            ],
            "image/png": "[encoded data removed]"
          },
          "metadata": {
            "needs_background": "light"
          }
        }
      ]
    }
  ]
}